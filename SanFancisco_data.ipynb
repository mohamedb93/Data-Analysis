{
 "cells": [
  {
   "cell_type": "code",
   "execution_count": 18,
   "id": "de643634",
   "metadata": {},
   "outputs": [],
   "source": [
    "%matplotlib inline\n",
    "import matplotlib.pyplot as plt\n",
    "plt.style.use('seaborn-whitegrid')\n",
    "import numpy as np\n",
    "import pandas as pd\n",
    "import seaborn as sns"
   ]
  },
  {
   "cell_type": "code",
   "execution_count": 19,
   "id": "f421bca7",
   "metadata": {},
   "outputs": [],
   "source": [
    "data = pd.read_csv('/Users/mohamedbassimbo/Downloads/sf_data.csv')"
   ]
  },
  {
   "cell_type": "code",
   "execution_count": 4,
   "id": "7c5210d8",
   "metadata": {},
   "outputs": [
    {
     "data": {
      "text/plain": [
       "(153874, 26)"
      ]
     },
     "execution_count": 4,
     "metadata": {},
     "output_type": "execute_result"
    }
   ],
   "source": [
    "data.shape"
   ]
  },
  {
   "cell_type": "code",
   "execution_count": 5,
   "id": "111418c9",
   "metadata": {},
   "outputs": [
    {
     "data": {
      "text/plain": [
       "Incident Datetime           object\n",
       "Incident Date               object\n",
       "Incident Time               object\n",
       "Incident Year                int64\n",
       "Incident Day of Week        object\n",
       "Report Datetime             object\n",
       "Report Date                 object\n",
       "Report Time                 object\n",
       "Incident ID                  int64\n",
       "Incident Number              int64\n",
       "CAD Number                 float64\n",
       "Report Type Description     object\n",
       "Filed Online                object\n",
       "Incident Code                int64\n",
       "Incident Category           object\n",
       "Incident Subcategory        object\n",
       "Incident Description        object\n",
       "Resolution                  object\n",
       "Intersection                object\n",
       "CNN                        float64\n",
       "Police District             object\n",
       "Analysis Neighborhood       object\n",
       "Supervisor District        float64\n",
       "Latitude                   float64\n",
       "Longitude                  float64\n",
       "point                       object\n",
       "dtype: object"
      ]
     },
     "execution_count": 5,
     "metadata": {},
     "output_type": "execute_result"
    }
   ],
   "source": [
    "data.dtypes"
   ]
  },
  {
   "cell_type": "code",
   "execution_count": 9,
   "id": "77f1be65",
   "metadata": {},
   "outputs": [
    {
     "data": {
      "text/html": [
       "<div>\n",
       "<style scoped>\n",
       "    .dataframe tbody tr th:only-of-type {\n",
       "        vertical-align: middle;\n",
       "    }\n",
       "\n",
       "    .dataframe tbody tr th {\n",
       "        vertical-align: top;\n",
       "    }\n",
       "\n",
       "    .dataframe thead th {\n",
       "        text-align: right;\n",
       "    }\n",
       "</style>\n",
       "<table border=\"1\" class=\"dataframe\">\n",
       "  <thead>\n",
       "    <tr style=\"text-align: right;\">\n",
       "      <th></th>\n",
       "      <th>Incident Year</th>\n",
       "      <th>Incident ID</th>\n",
       "      <th>Incident Number</th>\n",
       "      <th>CAD Number</th>\n",
       "      <th>Incident Code</th>\n",
       "      <th>CNN</th>\n",
       "      <th>Supervisor District</th>\n",
       "      <th>Latitude</th>\n",
       "      <th>Longitude</th>\n",
       "    </tr>\n",
       "  </thead>\n",
       "  <tbody>\n",
       "    <tr>\n",
       "      <th>count</th>\n",
       "      <td>153874.0</td>\n",
       "      <td>1.538740e+05</td>\n",
       "      <td>1.538740e+05</td>\n",
       "      <td>1.178270e+05</td>\n",
       "      <td>153874.000000</td>\n",
       "      <td>1.459640e+05</td>\n",
       "      <td>145964.000000</td>\n",
       "      <td>145964.000000</td>\n",
       "      <td>145964.000000</td>\n",
       "    </tr>\n",
       "    <tr>\n",
       "      <th>mean</th>\n",
       "      <td>2018.0</td>\n",
       "      <td>6.900988e+05</td>\n",
       "      <td>1.817499e+08</td>\n",
       "      <td>1.822562e+08</td>\n",
       "      <td>25395.195673</td>\n",
       "      <td>2.532343e+07</td>\n",
       "      <td>5.978467</td>\n",
       "      <td>37.769784</td>\n",
       "      <td>-122.423066</td>\n",
       "    </tr>\n",
       "    <tr>\n",
       "      <th>std</th>\n",
       "      <td>0.0</td>\n",
       "      <td>4.222302e+04</td>\n",
       "      <td>4.689030e+06</td>\n",
       "      <td>1.410180e+07</td>\n",
       "      <td>25992.632389</td>\n",
       "      <td>3.084760e+06</td>\n",
       "      <td>2.759592</td>\n",
       "      <td>0.023851</td>\n",
       "      <td>0.025669</td>\n",
       "    </tr>\n",
       "    <tr>\n",
       "      <th>min</th>\n",
       "      <td>2018.0</td>\n",
       "      <td>6.186870e+05</td>\n",
       "      <td>1.808670e+06</td>\n",
       "      <td>1.801243e+07</td>\n",
       "      <td>1000.000000</td>\n",
       "      <td>2.001300e+07</td>\n",
       "      <td>1.000000</td>\n",
       "      <td>37.707988</td>\n",
       "      <td>-122.511295</td>\n",
       "    </tr>\n",
       "    <tr>\n",
       "      <th>25%</th>\n",
       "      <td>2018.0</td>\n",
       "      <td>6.551552e+05</td>\n",
       "      <td>1.803158e+08</td>\n",
       "      <td>1.809710e+08</td>\n",
       "      <td>6244.000000</td>\n",
       "      <td>2.398700e+07</td>\n",
       "      <td>3.000000</td>\n",
       "      <td>37.757035</td>\n",
       "      <td>-122.433075</td>\n",
       "    </tr>\n",
       "    <tr>\n",
       "      <th>50%</th>\n",
       "      <td>2018.0</td>\n",
       "      <td>6.896445e+05</td>\n",
       "      <td>1.806330e+08</td>\n",
       "      <td>1.819026e+08</td>\n",
       "      <td>7055.000000</td>\n",
       "      <td>2.490400e+07</td>\n",
       "      <td>6.000000</td>\n",
       "      <td>37.775950</td>\n",
       "      <td>-122.417017</td>\n",
       "    </tr>\n",
       "    <tr>\n",
       "      <th>75%</th>\n",
       "      <td>2018.0</td>\n",
       "      <td>7.234500e+05</td>\n",
       "      <td>1.809547e+08</td>\n",
       "      <td>1.827833e+08</td>\n",
       "      <td>62020.000000</td>\n",
       "      <td>2.634400e+07</td>\n",
       "      <td>8.000000</td>\n",
       "      <td>37.785829</td>\n",
       "      <td>-122.406957</td>\n",
       "    </tr>\n",
       "    <tr>\n",
       "      <th>max</th>\n",
       "      <td>2018.0</td>\n",
       "      <td>1.015640e+06</td>\n",
       "      <td>9.811720e+08</td>\n",
       "      <td>1.000000e+09</td>\n",
       "      <td>75030.000000</td>\n",
       "      <td>5.400400e+07</td>\n",
       "      <td>11.000000</td>\n",
       "      <td>37.829991</td>\n",
       "      <td>-122.363743</td>\n",
       "    </tr>\n",
       "  </tbody>\n",
       "</table>\n",
       "</div>"
      ],
      "text/plain": [
       "       Incident Year   Incident ID  Incident Number    CAD Number   \n",
       "count       153874.0  1.538740e+05     1.538740e+05  1.178270e+05  \\\n",
       "mean          2018.0  6.900988e+05     1.817499e+08  1.822562e+08   \n",
       "std              0.0  4.222302e+04     4.689030e+06  1.410180e+07   \n",
       "min           2018.0  6.186870e+05     1.808670e+06  1.801243e+07   \n",
       "25%           2018.0  6.551552e+05     1.803158e+08  1.809710e+08   \n",
       "50%           2018.0  6.896445e+05     1.806330e+08  1.819026e+08   \n",
       "75%           2018.0  7.234500e+05     1.809547e+08  1.827833e+08   \n",
       "max           2018.0  1.015640e+06     9.811720e+08  1.000000e+09   \n",
       "\n",
       "       Incident Code           CNN  Supervisor District       Latitude   \n",
       "count  153874.000000  1.459640e+05        145964.000000  145964.000000  \\\n",
       "mean    25395.195673  2.532343e+07             5.978467      37.769784   \n",
       "std     25992.632389  3.084760e+06             2.759592       0.023851   \n",
       "min      1000.000000  2.001300e+07             1.000000      37.707988   \n",
       "25%      6244.000000  2.398700e+07             3.000000      37.757035   \n",
       "50%      7055.000000  2.490400e+07             6.000000      37.775950   \n",
       "75%     62020.000000  2.634400e+07             8.000000      37.785829   \n",
       "max     75030.000000  5.400400e+07            11.000000      37.829991   \n",
       "\n",
       "           Longitude  \n",
       "count  145964.000000  \n",
       "mean     -122.423066  \n",
       "std         0.025669  \n",
       "min      -122.511295  \n",
       "25%      -122.433075  \n",
       "50%      -122.417017  \n",
       "75%      -122.406957  \n",
       "max      -122.363743  "
      ]
     },
     "execution_count": 9,
     "metadata": {},
     "output_type": "execute_result"
    }
   ],
   "source": [
    "data.describe()"
   ]
  },
  {
   "cell_type": "code",
   "execution_count": 10,
   "id": "ae55479f",
   "metadata": {},
   "outputs": [
    {
     "data": {
      "text/html": [
       "<div>\n",
       "<style scoped>\n",
       "    .dataframe tbody tr th:only-of-type {\n",
       "        vertical-align: middle;\n",
       "    }\n",
       "\n",
       "    .dataframe tbody tr th {\n",
       "        vertical-align: top;\n",
       "    }\n",
       "\n",
       "    .dataframe thead th {\n",
       "        text-align: right;\n",
       "    }\n",
       "</style>\n",
       "<table border=\"1\" class=\"dataframe\">\n",
       "  <thead>\n",
       "    <tr style=\"text-align: right;\">\n",
       "      <th></th>\n",
       "      <th>Incident Datetime</th>\n",
       "      <th>Incident Date</th>\n",
       "      <th>Incident Time</th>\n",
       "      <th>Incident Year</th>\n",
       "      <th>Incident Day of Week</th>\n",
       "      <th>Report Datetime</th>\n",
       "      <th>Report Date</th>\n",
       "      <th>Report Time</th>\n",
       "      <th>Incident ID</th>\n",
       "      <th>Incident Number</th>\n",
       "      <th>...</th>\n",
       "      <th>Incident Description</th>\n",
       "      <th>Resolution</th>\n",
       "      <th>Intersection</th>\n",
       "      <th>CNN</th>\n",
       "      <th>Police District</th>\n",
       "      <th>Analysis Neighborhood</th>\n",
       "      <th>Supervisor District</th>\n",
       "      <th>Latitude</th>\n",
       "      <th>Longitude</th>\n",
       "      <th>point</th>\n",
       "    </tr>\n",
       "  </thead>\n",
       "  <tbody>\n",
       "    <tr>\n",
       "      <th>0</th>\n",
       "      <td>2018/01/01 9:26:00 AM</td>\n",
       "      <td>1/1/2018</td>\n",
       "      <td>9:26:00 AM</td>\n",
       "      <td>2018</td>\n",
       "      <td>Monday</td>\n",
       "      <td>2018/01/01 9:27:00 AM</td>\n",
       "      <td>1/1/2018</td>\n",
       "      <td>9:27:00 AM</td>\n",
       "      <td>618930</td>\n",
       "      <td>171052174</td>\n",
       "      <td>...</td>\n",
       "      <td>Vehicle, Recovered, Auto</td>\n",
       "      <td>Open or Active</td>\n",
       "      <td>03RD ST \\ HOLLISTER AVE</td>\n",
       "      <td>20471000.0</td>\n",
       "      <td>Southern</td>\n",
       "      <td>Bayview Hunters Point</td>\n",
       "      <td>10.0</td>\n",
       "      <td>37.721716</td>\n",
       "      <td>-122.395944</td>\n",
       "      <td>(37.72171587946975, -122.39594382884452)</td>\n",
       "    </tr>\n",
       "    <tr>\n",
       "      <th>1</th>\n",
       "      <td>2018/01/01 2:30:00 AM</td>\n",
       "      <td>1/1/2018</td>\n",
       "      <td>2:30:00 AM</td>\n",
       "      <td>2018</td>\n",
       "      <td>Monday</td>\n",
       "      <td>2018/01/01 8:21:00 AM</td>\n",
       "      <td>1/1/2018</td>\n",
       "      <td>8:21:00 AM</td>\n",
       "      <td>618931</td>\n",
       "      <td>180000768</td>\n",
       "      <td>...</td>\n",
       "      <td>Burglary, Residence, Forcible Entry</td>\n",
       "      <td>Open or Active</td>\n",
       "      <td>LISBON ST \\ PERSIA AVE</td>\n",
       "      <td>21719000.0</td>\n",
       "      <td>Ingleside</td>\n",
       "      <td>Excelsior</td>\n",
       "      <td>11.0</td>\n",
       "      <td>37.722000</td>\n",
       "      <td>-122.433606</td>\n",
       "      <td>(37.722000219874225, -122.43360633930074)</td>\n",
       "    </tr>\n",
       "    <tr>\n",
       "      <th>2</th>\n",
       "      <td>2018/01/01 10:00:00 AM</td>\n",
       "      <td>1/1/2018</td>\n",
       "      <td>10:00:00 AM</td>\n",
       "      <td>2018</td>\n",
       "      <td>Monday</td>\n",
       "      <td>2018/01/01 10:20:00 AM</td>\n",
       "      <td>1/1/2018</td>\n",
       "      <td>10:20:00 AM</td>\n",
       "      <td>618932</td>\n",
       "      <td>180000605</td>\n",
       "      <td>...</td>\n",
       "      <td>Found Person</td>\n",
       "      <td>Open or Active</td>\n",
       "      <td>VAN NESS AVE \\ WILLOW ST</td>\n",
       "      <td>25189000.0</td>\n",
       "      <td>Northern</td>\n",
       "      <td>Tenderloin</td>\n",
       "      <td>6.0</td>\n",
       "      <td>37.783370</td>\n",
       "      <td>-122.420832</td>\n",
       "      <td>(37.78337048750076, -122.42083185184009)</td>\n",
       "    </tr>\n",
       "    <tr>\n",
       "      <th>3</th>\n",
       "      <td>2018/01/01 10:03:00 AM</td>\n",
       "      <td>1/1/2018</td>\n",
       "      <td>10:03:00 AM</td>\n",
       "      <td>2018</td>\n",
       "      <td>Monday</td>\n",
       "      <td>2018/01/01 10:04:00 AM</td>\n",
       "      <td>1/1/2018</td>\n",
       "      <td>10:04:00 AM</td>\n",
       "      <td>618935</td>\n",
       "      <td>180000887</td>\n",
       "      <td>...</td>\n",
       "      <td>Driving, No License Issued</td>\n",
       "      <td>Cite or Arrest Adult</td>\n",
       "      <td>BRAZIL AVE \\ MISSION ST</td>\n",
       "      <td>21769000.0</td>\n",
       "      <td>Ingleside</td>\n",
       "      <td>Outer Mission</td>\n",
       "      <td>11.0</td>\n",
       "      <td>37.724683</td>\n",
       "      <td>-122.434798</td>\n",
       "      <td>(37.72468255342173, -122.43479841474401)</td>\n",
       "    </tr>\n",
       "    <tr>\n",
       "      <th>4</th>\n",
       "      <td>2018/01/01 9:01:00 AM</td>\n",
       "      <td>1/1/2018</td>\n",
       "      <td>9:01:00 AM</td>\n",
       "      <td>2018</td>\n",
       "      <td>Monday</td>\n",
       "      <td>2018/01/01 9:39:00 AM</td>\n",
       "      <td>1/1/2018</td>\n",
       "      <td>9:39:00 AM</td>\n",
       "      <td>618936</td>\n",
       "      <td>171052958</td>\n",
       "      <td>...</td>\n",
       "      <td>Vehicle, Recovered, Auto</td>\n",
       "      <td>Open or Active</td>\n",
       "      <td>CUSTOM HOUSE PL \\ JACKSON ST</td>\n",
       "      <td>24709000.0</td>\n",
       "      <td>Central</td>\n",
       "      <td>Chinatown</td>\n",
       "      <td>3.0</td>\n",
       "      <td>37.796698</td>\n",
       "      <td>-122.401294</td>\n",
       "      <td>(37.796698028315056, -122.40129440446798)</td>\n",
       "    </tr>\n",
       "  </tbody>\n",
       "</table>\n",
       "<p>5 rows × 26 columns</p>\n",
       "</div>"
      ],
      "text/plain": [
       "        Incident Datetime Incident Date Incident Time  Incident Year   \n",
       "0   2018/01/01 9:26:00 AM      1/1/2018    9:26:00 AM           2018  \\\n",
       "1   2018/01/01 2:30:00 AM      1/1/2018    2:30:00 AM           2018   \n",
       "2  2018/01/01 10:00:00 AM      1/1/2018   10:00:00 AM           2018   \n",
       "3  2018/01/01 10:03:00 AM      1/1/2018   10:03:00 AM           2018   \n",
       "4   2018/01/01 9:01:00 AM      1/1/2018    9:01:00 AM           2018   \n",
       "\n",
       "  Incident Day of Week         Report Datetime Report Date  Report Time   \n",
       "0               Monday   2018/01/01 9:27:00 AM    1/1/2018   9:27:00 AM  \\\n",
       "1               Monday   2018/01/01 8:21:00 AM    1/1/2018   8:21:00 AM   \n",
       "2               Monday  2018/01/01 10:20:00 AM    1/1/2018  10:20:00 AM   \n",
       "3               Monday  2018/01/01 10:04:00 AM    1/1/2018  10:04:00 AM   \n",
       "4               Monday   2018/01/01 9:39:00 AM    1/1/2018   9:39:00 AM   \n",
       "\n",
       "   Incident ID  Incident Number  ...                 Incident Description   \n",
       "0       618930        171052174  ...             Vehicle, Recovered, Auto  \\\n",
       "1       618931        180000768  ...  Burglary, Residence, Forcible Entry   \n",
       "2       618932        180000605  ...                         Found Person   \n",
       "3       618935        180000887  ...           Driving, No License Issued   \n",
       "4       618936        171052958  ...             Vehicle, Recovered, Auto   \n",
       "\n",
       "             Resolution                  Intersection         CNN   \n",
       "0        Open or Active       03RD ST \\ HOLLISTER AVE  20471000.0  \\\n",
       "1        Open or Active        LISBON ST \\ PERSIA AVE  21719000.0   \n",
       "2        Open or Active      VAN NESS AVE \\ WILLOW ST  25189000.0   \n",
       "3  Cite or Arrest Adult       BRAZIL AVE \\ MISSION ST  21769000.0   \n",
       "4        Open or Active  CUSTOM HOUSE PL \\ JACKSON ST  24709000.0   \n",
       "\n",
       "  Police District  Analysis Neighborhood Supervisor District   Latitude   \n",
       "0        Southern  Bayview Hunters Point                10.0  37.721716  \\\n",
       "1       Ingleside              Excelsior                11.0  37.722000   \n",
       "2        Northern             Tenderloin                 6.0  37.783370   \n",
       "3       Ingleside          Outer Mission                11.0  37.724683   \n",
       "4         Central              Chinatown                 3.0  37.796698   \n",
       "\n",
       "    Longitude                                      point  \n",
       "0 -122.395944   (37.72171587946975, -122.39594382884452)  \n",
       "1 -122.433606  (37.722000219874225, -122.43360633930074)  \n",
       "2 -122.420832   (37.78337048750076, -122.42083185184009)  \n",
       "3 -122.434798   (37.72468255342173, -122.43479841474401)  \n",
       "4 -122.401294  (37.796698028315056, -122.40129440446798)  \n",
       "\n",
       "[5 rows x 26 columns]"
      ]
     },
     "execution_count": 10,
     "metadata": {},
     "output_type": "execute_result"
    }
   ],
   "source": [
    "data.head()"
   ]
  },
  {
   "cell_type": "code",
   "execution_count": 16,
   "id": "e97114ef",
   "metadata": {},
   "outputs": [],
   "source": [
    "data.drop(columns=['CNN'], inplace=True)\n"
   ]
  },
  {
   "cell_type": "code",
   "execution_count": 17,
   "id": "63fa16f0",
   "metadata": {},
   "outputs": [],
   "source": [
    "data.drop(columns=['Intersection'], inplace=True)"
   ]
  },
  {
   "cell_type": "code",
   "execution_count": 18,
   "id": "78cd6850",
   "metadata": {},
   "outputs": [],
   "source": [
    "data.to_csv('sf_data2.csv', index=False)"
   ]
  },
  {
   "cell_type": "code",
   "execution_count": 21,
   "id": "852a5d77",
   "metadata": {},
   "outputs": [
    {
     "data": {
      "text/html": [
       "<div>\n",
       "<style scoped>\n",
       "    .dataframe tbody tr th:only-of-type {\n",
       "        vertical-align: middle;\n",
       "    }\n",
       "\n",
       "    .dataframe tbody tr th {\n",
       "        vertical-align: top;\n",
       "    }\n",
       "\n",
       "    .dataframe thead th {\n",
       "        text-align: right;\n",
       "    }\n",
       "</style>\n",
       "<table border=\"1\" class=\"dataframe\">\n",
       "  <thead>\n",
       "    <tr style=\"text-align: right;\">\n",
       "      <th></th>\n",
       "      <th>Incident Datetime</th>\n",
       "      <th>Incident Date</th>\n",
       "      <th>Incident Time</th>\n",
       "      <th>Incident Year</th>\n",
       "      <th>Incident Day of Week</th>\n",
       "      <th>Report Datetime</th>\n",
       "      <th>Report Date</th>\n",
       "      <th>Report Time</th>\n",
       "      <th>Incident ID</th>\n",
       "      <th>Incident Number</th>\n",
       "      <th>...</th>\n",
       "      <th>Incident Category</th>\n",
       "      <th>Incident Subcategory</th>\n",
       "      <th>Incident Description</th>\n",
       "      <th>Resolution</th>\n",
       "      <th>Police District</th>\n",
       "      <th>Analysis Neighborhood</th>\n",
       "      <th>Supervisor District</th>\n",
       "      <th>Latitude</th>\n",
       "      <th>Longitude</th>\n",
       "      <th>point</th>\n",
       "    </tr>\n",
       "  </thead>\n",
       "  <tbody>\n",
       "    <tr>\n",
       "      <th>0</th>\n",
       "      <td>2018/01/01 9:26:00 AM</td>\n",
       "      <td>1/1/2018</td>\n",
       "      <td>9:26:00 AM</td>\n",
       "      <td>2018</td>\n",
       "      <td>Monday</td>\n",
       "      <td>2018/01/01 9:27:00 AM</td>\n",
       "      <td>1/1/2018</td>\n",
       "      <td>9:27:00 AM</td>\n",
       "      <td>618930</td>\n",
       "      <td>171052174</td>\n",
       "      <td>...</td>\n",
       "      <td>Recovered Vehicle</td>\n",
       "      <td>Recovered Vehicle</td>\n",
       "      <td>Vehicle, Recovered, Auto</td>\n",
       "      <td>Open or Active</td>\n",
       "      <td>Southern</td>\n",
       "      <td>Bayview Hunters Point</td>\n",
       "      <td>10.0</td>\n",
       "      <td>37.721716</td>\n",
       "      <td>-122.395944</td>\n",
       "      <td>(37.72171587946975, -122.39594382884452)</td>\n",
       "    </tr>\n",
       "    <tr>\n",
       "      <th>1</th>\n",
       "      <td>2018/01/01 2:30:00 AM</td>\n",
       "      <td>1/1/2018</td>\n",
       "      <td>2:30:00 AM</td>\n",
       "      <td>2018</td>\n",
       "      <td>Monday</td>\n",
       "      <td>2018/01/01 8:21:00 AM</td>\n",
       "      <td>1/1/2018</td>\n",
       "      <td>8:21:00 AM</td>\n",
       "      <td>618931</td>\n",
       "      <td>180000768</td>\n",
       "      <td>...</td>\n",
       "      <td>Burglary</td>\n",
       "      <td>Burglary - Residential</td>\n",
       "      <td>Burglary, Residence, Forcible Entry</td>\n",
       "      <td>Open or Active</td>\n",
       "      <td>Ingleside</td>\n",
       "      <td>Excelsior</td>\n",
       "      <td>11.0</td>\n",
       "      <td>37.722000</td>\n",
       "      <td>-122.433606</td>\n",
       "      <td>(37.722000219874225, -122.43360633930074)</td>\n",
       "    </tr>\n",
       "    <tr>\n",
       "      <th>2</th>\n",
       "      <td>2018/01/01 10:00:00 AM</td>\n",
       "      <td>1/1/2018</td>\n",
       "      <td>10:00:00 AM</td>\n",
       "      <td>2018</td>\n",
       "      <td>Monday</td>\n",
       "      <td>2018/01/01 10:20:00 AM</td>\n",
       "      <td>1/1/2018</td>\n",
       "      <td>10:20:00 AM</td>\n",
       "      <td>618932</td>\n",
       "      <td>180000605</td>\n",
       "      <td>...</td>\n",
       "      <td>Missing Person</td>\n",
       "      <td>Missing Person</td>\n",
       "      <td>Found Person</td>\n",
       "      <td>Open or Active</td>\n",
       "      <td>Northern</td>\n",
       "      <td>Tenderloin</td>\n",
       "      <td>6.0</td>\n",
       "      <td>37.783370</td>\n",
       "      <td>-122.420832</td>\n",
       "      <td>(37.78337048750076, -122.42083185184009)</td>\n",
       "    </tr>\n",
       "    <tr>\n",
       "      <th>3</th>\n",
       "      <td>2018/01/01 10:03:00 AM</td>\n",
       "      <td>1/1/2018</td>\n",
       "      <td>10:03:00 AM</td>\n",
       "      <td>2018</td>\n",
       "      <td>Monday</td>\n",
       "      <td>2018/01/01 10:04:00 AM</td>\n",
       "      <td>1/1/2018</td>\n",
       "      <td>10:04:00 AM</td>\n",
       "      <td>618935</td>\n",
       "      <td>180000887</td>\n",
       "      <td>...</td>\n",
       "      <td>Other Miscellaneous</td>\n",
       "      <td>Other</td>\n",
       "      <td>Driving, No License Issued</td>\n",
       "      <td>Cite or Arrest Adult</td>\n",
       "      <td>Ingleside</td>\n",
       "      <td>Outer Mission</td>\n",
       "      <td>11.0</td>\n",
       "      <td>37.724683</td>\n",
       "      <td>-122.434798</td>\n",
       "      <td>(37.72468255342173, -122.43479841474401)</td>\n",
       "    </tr>\n",
       "    <tr>\n",
       "      <th>4</th>\n",
       "      <td>2018/01/01 9:01:00 AM</td>\n",
       "      <td>1/1/2018</td>\n",
       "      <td>9:01:00 AM</td>\n",
       "      <td>2018</td>\n",
       "      <td>Monday</td>\n",
       "      <td>2018/01/01 9:39:00 AM</td>\n",
       "      <td>1/1/2018</td>\n",
       "      <td>9:39:00 AM</td>\n",
       "      <td>618936</td>\n",
       "      <td>171052958</td>\n",
       "      <td>...</td>\n",
       "      <td>Recovered Vehicle</td>\n",
       "      <td>Recovered Vehicle</td>\n",
       "      <td>Vehicle, Recovered, Auto</td>\n",
       "      <td>Open or Active</td>\n",
       "      <td>Central</td>\n",
       "      <td>Chinatown</td>\n",
       "      <td>3.0</td>\n",
       "      <td>37.796698</td>\n",
       "      <td>-122.401294</td>\n",
       "      <td>(37.796698028315056, -122.40129440446798)</td>\n",
       "    </tr>\n",
       "  </tbody>\n",
       "</table>\n",
       "<p>5 rows × 24 columns</p>\n",
       "</div>"
      ],
      "text/plain": [
       "        Incident Datetime Incident Date Incident Time  Incident Year   \n",
       "0   2018/01/01 9:26:00 AM      1/1/2018    9:26:00 AM           2018  \\\n",
       "1   2018/01/01 2:30:00 AM      1/1/2018    2:30:00 AM           2018   \n",
       "2  2018/01/01 10:00:00 AM      1/1/2018   10:00:00 AM           2018   \n",
       "3  2018/01/01 10:03:00 AM      1/1/2018   10:03:00 AM           2018   \n",
       "4   2018/01/01 9:01:00 AM      1/1/2018    9:01:00 AM           2018   \n",
       "\n",
       "  Incident Day of Week         Report Datetime Report Date  Report Time   \n",
       "0               Monday   2018/01/01 9:27:00 AM    1/1/2018   9:27:00 AM  \\\n",
       "1               Monday   2018/01/01 8:21:00 AM    1/1/2018   8:21:00 AM   \n",
       "2               Monday  2018/01/01 10:20:00 AM    1/1/2018  10:20:00 AM   \n",
       "3               Monday  2018/01/01 10:04:00 AM    1/1/2018  10:04:00 AM   \n",
       "4               Monday   2018/01/01 9:39:00 AM    1/1/2018   9:39:00 AM   \n",
       "\n",
       "   Incident ID  Incident Number  ...    Incident Category   \n",
       "0       618930        171052174  ...    Recovered Vehicle  \\\n",
       "1       618931        180000768  ...             Burglary   \n",
       "2       618932        180000605  ...       Missing Person   \n",
       "3       618935        180000887  ...  Other Miscellaneous   \n",
       "4       618936        171052958  ...    Recovered Vehicle   \n",
       "\n",
       "     Incident Subcategory                 Incident Description   \n",
       "0       Recovered Vehicle             Vehicle, Recovered, Auto  \\\n",
       "1  Burglary - Residential  Burglary, Residence, Forcible Entry   \n",
       "2          Missing Person                         Found Person   \n",
       "3                   Other           Driving, No License Issued   \n",
       "4       Recovered Vehicle             Vehicle, Recovered, Auto   \n",
       "\n",
       "             Resolution Police District  Analysis Neighborhood   \n",
       "0        Open or Active        Southern  Bayview Hunters Point  \\\n",
       "1        Open or Active       Ingleside              Excelsior   \n",
       "2        Open or Active        Northern             Tenderloin   \n",
       "3  Cite or Arrest Adult       Ingleside          Outer Mission   \n",
       "4        Open or Active         Central              Chinatown   \n",
       "\n",
       "  Supervisor District   Latitude   Longitude   \n",
       "0                10.0  37.721716 -122.395944  \\\n",
       "1                11.0  37.722000 -122.433606   \n",
       "2                 6.0  37.783370 -122.420832   \n",
       "3                11.0  37.724683 -122.434798   \n",
       "4                 3.0  37.796698 -122.401294   \n",
       "\n",
       "                                       point  \n",
       "0   (37.72171587946975, -122.39594382884452)  \n",
       "1  (37.722000219874225, -122.43360633930074)  \n",
       "2   (37.78337048750076, -122.42083185184009)  \n",
       "3   (37.72468255342173, -122.43479841474401)  \n",
       "4  (37.796698028315056, -122.40129440446798)  \n",
       "\n",
       "[5 rows x 24 columns]"
      ]
     },
     "execution_count": 21,
     "metadata": {},
     "output_type": "execute_result"
    }
   ],
   "source": [
    "data.head()"
   ]
  },
  {
   "cell_type": "code",
   "execution_count": 22,
   "id": "d3996d63",
   "metadata": {},
   "outputs": [],
   "source": [
    "data.drop(columns=['Incident Number'], inplace=True)"
   ]
  },
  {
   "cell_type": "code",
   "execution_count": 23,
   "id": "3364ee4f",
   "metadata": {},
   "outputs": [],
   "source": [
    "data.drop(columns=['CAD Number'], inplace=True)"
   ]
  },
  {
   "cell_type": "code",
   "execution_count": 26,
   "id": "e5971625",
   "metadata": {},
   "outputs": [],
   "source": [
    "data.drop(columns=['Incident Code'], inplace=True)"
   ]
  },
  {
   "cell_type": "code",
   "execution_count": 27,
   "id": "e6e5077a",
   "metadata": {},
   "outputs": [],
   "source": [
    "data.drop(columns=['Filed Online'], inplace=True)"
   ]
  },
  {
   "cell_type": "code",
   "execution_count": 28,
   "id": "f9fdae56",
   "metadata": {},
   "outputs": [],
   "source": [
    "data.drop(columns=['Incident ID'], inplace=True)"
   ]
  },
  {
   "cell_type": "code",
   "execution_count": 30,
   "id": "8b51b01e",
   "metadata": {},
   "outputs": [
    {
     "data": {
      "text/plain": [
       "<bound method NDFrame.head of              Incident Datetime Incident Date Incident Time  Incident Year   \n",
       "0        2018/01/01 9:26:00 AM      1/1/2018    9:26:00 AM           2018  \\\n",
       "1        2018/01/01 2:30:00 AM      1/1/2018    2:30:00 AM           2018   \n",
       "2       2018/01/01 10:00:00 AM      1/1/2018   10:00:00 AM           2018   \n",
       "3       2018/01/01 10:03:00 AM      1/1/2018   10:03:00 AM           2018   \n",
       "4        2018/01/01 9:01:00 AM      1/1/2018    9:01:00 AM           2018   \n",
       "...                        ...           ...           ...            ...   \n",
       "153869  2018/02/28 12:30:00 PM     2/28/2018   12:30:00 PM           2018   \n",
       "153870  2018/03/01 12:01:00 AM      3/1/2018   12:01:00 AM           2018   \n",
       "153871  2018/03/01 12:01:00 AM      3/1/2018   12:01:00 AM           2018   \n",
       "153872  2018/10/01 12:00:00 AM     10/1/2018   12:00:00 AM           2018   \n",
       "153873  2018/04/01 12:00:00 PM      4/1/2018   12:00:00 PM           2018   \n",
       "\n",
       "       Incident Day of Week         Report Datetime Report Date  Report Time   \n",
       "0                    Monday   2018/01/01 9:27:00 AM    1/1/2018   9:27:00 AM  \\\n",
       "1                    Monday   2018/01/01 8:21:00 AM    1/1/2018   8:21:00 AM   \n",
       "2                    Monday  2018/01/01 10:20:00 AM    1/1/2018  10:20:00 AM   \n",
       "3                    Monday  2018/01/01 10:04:00 AM    1/1/2018  10:04:00 AM   \n",
       "4                    Monday   2018/01/01 9:39:00 AM    1/1/2018   9:39:00 AM   \n",
       "...                     ...                     ...         ...          ...   \n",
       "153869            Wednesday   2021/02/15 2:04:00 PM   2/15/2021   2:04:00 PM   \n",
       "153870             Thursday   2021/03/13 2:40:00 PM   3/13/2021   2:40:00 PM   \n",
       "153871             Thursday   2021/03/13 2:40:00 PM   3/13/2021   2:40:00 PM   \n",
       "153872               Monday   2021/03/22 8:31:00 AM   3/22/2021   8:31:00 AM   \n",
       "153873               Sunday   2021/03/23 9:00:00 PM   3/23/2021   9:00:00 PM   \n",
       "\n",
       "       Report Type Description    Incident Category    Incident Subcategory   \n",
       "0           Vehicle Supplement    Recovered Vehicle       Recovered Vehicle  \\\n",
       "1                      Initial             Burglary  Burglary - Residential   \n",
       "2           Initial Supplement       Missing Person          Missing Person   \n",
       "3                      Initial  Other Miscellaneous                   Other   \n",
       "4           Vehicle Supplement    Recovered Vehicle       Recovered Vehicle   \n",
       "...                        ...                  ...                     ...   \n",
       "153869        Coplogic Initial        Lost Property           Lost Property   \n",
       "153870                 Initial   Malicious Mischief                   Other   \n",
       "153871                 Initial       Suspicious Occ          Suspicious Occ   \n",
       "153872                 Initial       Missing Person           Missing Adult   \n",
       "153873                 Initial      Courtesy Report         Courtesy Report   \n",
       "\n",
       "                       Incident Description            Resolution   \n",
       "0                  Vehicle, Recovered, Auto        Open or Active  \\\n",
       "1       Burglary, Residence, Forcible Entry        Open or Active   \n",
       "2                              Found Person        Open or Active   \n",
       "3                Driving, No License Issued  Cite or Arrest Adult   \n",
       "4                  Vehicle, Recovered, Auto        Open or Active   \n",
       "...                                     ...                   ...   \n",
       "153869                        Lost Property        Open or Active   \n",
       "153870               Phone Calls, Harassing        Open or Active   \n",
       "153871                Suspicious Occurrence        Open or Active   \n",
       "153872                        Missing Adult        Open or Active   \n",
       "153873                      Courtesy Report        Open or Active   \n",
       "\n",
       "       Police District  Analysis Neighborhood  Supervisor District   Latitude   \n",
       "0             Southern  Bayview Hunters Point                 10.0  37.721716  \\\n",
       "1            Ingleside              Excelsior                 11.0  37.722000   \n",
       "2             Northern             Tenderloin                  6.0  37.783370   \n",
       "3            Ingleside          Outer Mission                 11.0  37.724683   \n",
       "4              Central              Chinatown                  3.0  37.796698   \n",
       "...                ...                    ...                  ...        ...   \n",
       "153869      Tenderloin             Tenderloin                  6.0  37.779992   \n",
       "153870         Central             Tenderloin                  3.0  37.785283   \n",
       "153871         Central             Tenderloin                  3.0  37.785283   \n",
       "153872         Taraval     West of Twin Peaks                  7.0  37.721686   \n",
       "153873       Out of SF             Tenderloin                  6.0  37.783933   \n",
       "\n",
       "         Longitude                                      point  \n",
       "0      -122.395944   (37.72171587946975, -122.39594382884452)  \n",
       "1      -122.433606  (37.722000219874225, -122.43360633930074)  \n",
       "2      -122.420832   (37.78337048750076, -122.42083185184009)  \n",
       "3      -122.434798   (37.72468255342173, -122.43479841474401)  \n",
       "4      -122.401294  (37.796698028315056, -122.40129440446798)  \n",
       "...            ...                                        ...  \n",
       "153869 -122.413487   (37.77999173926721, -122.41348740024354)  \n",
       "153870 -122.409498   (37.78528291631406, -122.40949752694894)  \n",
       "153871 -122.409498   (37.78528291631406, -122.40949752694894)  \n",
       "153872 -122.463582   (37.72168610337628, -122.46358164869565)  \n",
       "153873 -122.412595    (37.7839325760642, -122.41259527758581)  \n",
       "\n",
       "[153874 rows x 19 columns]>"
      ]
     },
     "execution_count": 30,
     "metadata": {},
     "output_type": "execute_result"
    }
   ],
   "source": [
    "data.head"
   ]
  },
  {
   "cell_type": "code",
   "execution_count": 31,
   "id": "07b0d186",
   "metadata": {},
   "outputs": [],
   "source": [
    "data.drop(columns=['Longitude'], inplace=True)"
   ]
  },
  {
   "cell_type": "code",
   "execution_count": 32,
   "id": "01eca181",
   "metadata": {},
   "outputs": [],
   "source": [
    "data.drop(columns=['Latitude'], inplace=True)"
   ]
  },
  {
   "cell_type": "code",
   "execution_count": 34,
   "id": "4d191f57",
   "metadata": {},
   "outputs": [],
   "source": [
    "data.drop(columns=['point'], inplace=True)"
   ]
  },
  {
   "cell_type": "code",
   "execution_count": 35,
   "id": "65b3457a",
   "metadata": {},
   "outputs": [
    {
     "data": {
      "text/plain": [
       "<bound method NDFrame.head of              Incident Datetime Incident Date Incident Time  Incident Year   \n",
       "0        2018/01/01 9:26:00 AM      1/1/2018    9:26:00 AM           2018  \\\n",
       "1        2018/01/01 2:30:00 AM      1/1/2018    2:30:00 AM           2018   \n",
       "2       2018/01/01 10:00:00 AM      1/1/2018   10:00:00 AM           2018   \n",
       "3       2018/01/01 10:03:00 AM      1/1/2018   10:03:00 AM           2018   \n",
       "4        2018/01/01 9:01:00 AM      1/1/2018    9:01:00 AM           2018   \n",
       "...                        ...           ...           ...            ...   \n",
       "153869  2018/02/28 12:30:00 PM     2/28/2018   12:30:00 PM           2018   \n",
       "153870  2018/03/01 12:01:00 AM      3/1/2018   12:01:00 AM           2018   \n",
       "153871  2018/03/01 12:01:00 AM      3/1/2018   12:01:00 AM           2018   \n",
       "153872  2018/10/01 12:00:00 AM     10/1/2018   12:00:00 AM           2018   \n",
       "153873  2018/04/01 12:00:00 PM      4/1/2018   12:00:00 PM           2018   \n",
       "\n",
       "       Incident Day of Week         Report Datetime Report Date  Report Time   \n",
       "0                    Monday   2018/01/01 9:27:00 AM    1/1/2018   9:27:00 AM  \\\n",
       "1                    Monday   2018/01/01 8:21:00 AM    1/1/2018   8:21:00 AM   \n",
       "2                    Monday  2018/01/01 10:20:00 AM    1/1/2018  10:20:00 AM   \n",
       "3                    Monday  2018/01/01 10:04:00 AM    1/1/2018  10:04:00 AM   \n",
       "4                    Monday   2018/01/01 9:39:00 AM    1/1/2018   9:39:00 AM   \n",
       "...                     ...                     ...         ...          ...   \n",
       "153869            Wednesday   2021/02/15 2:04:00 PM   2/15/2021   2:04:00 PM   \n",
       "153870             Thursday   2021/03/13 2:40:00 PM   3/13/2021   2:40:00 PM   \n",
       "153871             Thursday   2021/03/13 2:40:00 PM   3/13/2021   2:40:00 PM   \n",
       "153872               Monday   2021/03/22 8:31:00 AM   3/22/2021   8:31:00 AM   \n",
       "153873               Sunday   2021/03/23 9:00:00 PM   3/23/2021   9:00:00 PM   \n",
       "\n",
       "       Report Type Description    Incident Category    Incident Subcategory   \n",
       "0           Vehicle Supplement    Recovered Vehicle       Recovered Vehicle  \\\n",
       "1                      Initial             Burglary  Burglary - Residential   \n",
       "2           Initial Supplement       Missing Person          Missing Person   \n",
       "3                      Initial  Other Miscellaneous                   Other   \n",
       "4           Vehicle Supplement    Recovered Vehicle       Recovered Vehicle   \n",
       "...                        ...                  ...                     ...   \n",
       "153869        Coplogic Initial        Lost Property           Lost Property   \n",
       "153870                 Initial   Malicious Mischief                   Other   \n",
       "153871                 Initial       Suspicious Occ          Suspicious Occ   \n",
       "153872                 Initial       Missing Person           Missing Adult   \n",
       "153873                 Initial      Courtesy Report         Courtesy Report   \n",
       "\n",
       "                       Incident Description            Resolution   \n",
       "0                  Vehicle, Recovered, Auto        Open or Active  \\\n",
       "1       Burglary, Residence, Forcible Entry        Open or Active   \n",
       "2                              Found Person        Open or Active   \n",
       "3                Driving, No License Issued  Cite or Arrest Adult   \n",
       "4                  Vehicle, Recovered, Auto        Open or Active   \n",
       "...                                     ...                   ...   \n",
       "153869                        Lost Property        Open or Active   \n",
       "153870               Phone Calls, Harassing        Open or Active   \n",
       "153871                Suspicious Occurrence        Open or Active   \n",
       "153872                        Missing Adult        Open or Active   \n",
       "153873                      Courtesy Report        Open or Active   \n",
       "\n",
       "       Police District  Analysis Neighborhood  Supervisor District  \n",
       "0             Southern  Bayview Hunters Point                 10.0  \n",
       "1            Ingleside              Excelsior                 11.0  \n",
       "2             Northern             Tenderloin                  6.0  \n",
       "3            Ingleside          Outer Mission                 11.0  \n",
       "4              Central              Chinatown                  3.0  \n",
       "...                ...                    ...                  ...  \n",
       "153869      Tenderloin             Tenderloin                  6.0  \n",
       "153870         Central             Tenderloin                  3.0  \n",
       "153871         Central             Tenderloin                  3.0  \n",
       "153872         Taraval     West of Twin Peaks                  7.0  \n",
       "153873       Out of SF             Tenderloin                  6.0  \n",
       "\n",
       "[153874 rows x 16 columns]>"
      ]
     },
     "execution_count": 35,
     "metadata": {},
     "output_type": "execute_result"
    }
   ],
   "source": [
    "data.head"
   ]
  },
  {
   "cell_type": "code",
   "execution_count": 40,
   "id": "a8934b2b",
   "metadata": {},
   "outputs": [
    {
     "data": {
      "text/plain": [
       "Incident Datetime             0\n",
       "Incident Date                 0\n",
       "Incident Time                 0\n",
       "Incident Year                 0\n",
       "Incident Day of Week          0\n",
       "Report Datetime               0\n",
       "Report Date                   0\n",
       "Report Time                   0\n",
       "Report Type Description       0\n",
       "Incident Category            15\n",
       "Incident Subcategory         15\n",
       "Incident Description          0\n",
       "Resolution                    0\n",
       "Police District               0\n",
       "Analysis Neighborhood      7945\n",
       "Supervisor District        7910\n",
       "dtype: int64"
      ]
     },
     "execution_count": 40,
     "metadata": {},
     "output_type": "execute_result"
    }
   ],
   "source": [
    "data.isna().sum()"
   ]
  },
  {
   "cell_type": "code",
   "execution_count": 17,
   "id": "ceb862c4",
   "metadata": {},
   "outputs": [
    {
     "data": {
      "text/plain": [
       "153874"
      ]
     },
     "execution_count": 17,
     "metadata": {},
     "output_type": "execute_result"
    }
   ],
   "source": [
    "data.Resolution.count()"
   ]
  },
  {
   "cell_type": "code",
   "execution_count": null,
   "id": "f051c4c8",
   "metadata": {},
   "outputs": [],
   "source": [
    "from sklearn.linear_model import LinearRegression\n",
    "from sklearn.model_selection import train_test_split\n",
    "from sklearn.linear_model import LogisticRegression\n",
    "from sklearn.preprocessing import LabelEncoder\n",
    "from sklearn.metrics import confusion_matrix"
   ]
  },
  {
   "cell_type": "code",
   "execution_count": 30,
   "id": "687d9cc6",
   "metadata": {},
   "outputs": [
    {
     "ename": "NameError",
     "evalue": "name 'train_test_split' is not defined",
     "output_type": "error",
     "traceback": [
      "\u001b[0;31m---------------------------------------------------------------------------\u001b[0m",
      "\u001b[0;31mNameError\u001b[0m                                 Traceback (most recent call last)",
      "\u001b[0;32m<ipython-input-30-d9703297d5c0>\u001b[0m in \u001b[0;36m<module>\u001b[0;34m\u001b[0m\n\u001b[1;32m      1\u001b[0m \u001b[0mX\u001b[0m\u001b[0;34m=\u001b[0m \u001b[0mdata\u001b[0m\u001b[0;34m.\u001b[0m\u001b[0mdrop\u001b[0m\u001b[0;34m(\u001b[0m\u001b[0;34m[\u001b[0m\u001b[0;34m'Incident Category'\u001b[0m\u001b[0;34m]\u001b[0m\u001b[0;34m,\u001b[0m \u001b[0maxis\u001b[0m\u001b[0;34m=\u001b[0m\u001b[0;36m1\u001b[0m\u001b[0;34m)\u001b[0m\u001b[0;34m\u001b[0m\u001b[0;34m\u001b[0m\u001b[0m\n\u001b[1;32m      2\u001b[0m \u001b[0my\u001b[0m\u001b[0;34m=\u001b[0m \u001b[0mdata\u001b[0m\u001b[0;34m[\u001b[0m\u001b[0;34m'Incident Category'\u001b[0m\u001b[0;34m]\u001b[0m\u001b[0;34m\u001b[0m\u001b[0;34m\u001b[0m\u001b[0m\n\u001b[0;32m----> 3\u001b[0;31m \u001b[0mX_train\u001b[0m\u001b[0;34m,\u001b[0m \u001b[0mX_test\u001b[0m\u001b[0;34m,\u001b[0m \u001b[0my_train\u001b[0m\u001b[0;34m,\u001b[0m \u001b[0my_test\u001b[0m\u001b[0;34m=\u001b[0m \u001b[0mtrain_test_split\u001b[0m\u001b[0;34m(\u001b[0m\u001b[0mX\u001b[0m\u001b[0;34m,\u001b[0m \u001b[0my\u001b[0m\u001b[0;34m,\u001b[0m \u001b[0mtest_size\u001b[0m\u001b[0;34m=\u001b[0m\u001b[0;36m0.25\u001b[0m\u001b[0;34m,\u001b[0m \u001b[0mrandom_state\u001b[0m\u001b[0;34m=\u001b[0m\u001b[0;36m45\u001b[0m\u001b[0;34m)\u001b[0m\u001b[0;34m\u001b[0m\u001b[0;34m\u001b[0m\u001b[0m\n\u001b[0m",
      "\u001b[0;31mNameError\u001b[0m: name 'train_test_split' is not defined"
     ]
    }
   ],
   "source": [
    "X= data.drop(['Incident Category'], axis=1)\n",
    "y= data['Incident Category']\n",
    "X_train, X_test, y_train, y_test= train_test_split(X, y, test_size=0.25, random_state=45)"
   ]
  },
  {
   "cell_type": "code",
   "execution_count": null,
   "id": "313e8e65",
   "metadata": {},
   "outputs": [],
   "source": []
  },
  {
   "cell_type": "code",
   "execution_count": null,
   "id": "278f02d3",
   "metadata": {},
   "outputs": [],
   "source": []
  },
  {
   "cell_type": "code",
   "execution_count": null,
   "id": "2bb18a94",
   "metadata": {},
   "outputs": [],
   "source": []
  },
  {
   "cell_type": "code",
   "execution_count": 11,
   "id": "c3918748",
   "metadata": {},
   "outputs": [
    {
     "ename": "SyntaxError",
     "evalue": "invalid syntax (<ipython-input-11-92efdc003b65>, line 1)",
     "output_type": "error",
     "traceback": [
      "\u001b[0;36m  File \u001b[0;32m\"<ipython-input-11-92efdc003b65>\"\u001b[0;36m, line \u001b[0;32m1\u001b[0m\n\u001b[0;31m    python -m ipykernel install --user --name jupytab-demo\u001b[0m\n\u001b[0m              ^\u001b[0m\n\u001b[0;31mSyntaxError\u001b[0m\u001b[0;31m:\u001b[0m invalid syntax\n"
     ]
    }
   ],
   "source": [
    "python -m ipykernel install --user --name jupytab-demo"
   ]
  },
  {
   "cell_type": "code",
   "execution_count": 39,
   "id": "dafd674d",
   "metadata": {},
   "outputs": [
    {
     "data": {
      "text/plain": [
       "(array([20354., 10838., 19178., 24519., 10365.,  7225., 21416., 12124.,\n",
       "         8464., 19391.]),\n",
       " array([ 0.,  1.,  2.,  3.,  4.,  5.,  6.,  7.,  8.,  9., 10.]),\n",
       " <BarContainer object of 10 artists>)"
      ]
     },
     "execution_count": 39,
     "metadata": {},
     "output_type": "execute_result"
    },
    {
     "data": {
      "image/png": "[encoded data removed]",
      "text/plain": [
       "<Figure size 432x288 with 1 Axes>"
      ]
     },
     "metadata": {},
     "output_type": "display_data"
    }
   ],
   "source": [
    "plt.hist(data['Police District'])"
   ]
  },
  {
   "cell_type": "code",
   "execution_count": 20,
   "id": "638c574d",
   "metadata": {},
   "outputs": [
    {
     "data": {
      "text/plain": [
       "Incident Number\n",
       "180354292    20\n",
       "180387908    16\n",
       "180085594    16\n",
       "106000012    15\n",
       "180471056    14\n",
       "             ..\n",
       "186123243     1\n",
       "186123102     1\n",
       "186123005     1\n",
       "186122950     1\n",
       "210182927     1\n",
       "Name: count, Length: 111861, dtype: int64"
      ]
     },
     "execution_count": 20,
     "metadata": {},
     "output_type": "execute_result"
    }
   ],
   "source": [
    "data['Incident Number'].value_counts()"
   ]
  },
  {
   "cell_type": "code",
   "execution_count": 22,
   "id": "a34e19ca",
   "metadata": {},
   "outputs": [
    {
     "data": {
      "text/plain": [
       "(array([1.30000e+01, 1.53616e+05, 2.43000e+02, 0.00000e+00, 0.00000e+00,\n",
       "        0.00000e+00, 0.00000e+00, 0.00000e+00, 0.00000e+00, 2.00000e+00]),\n",
       " array([1.80867000e+06, 9.97450026e+07, 1.97681335e+08, 2.95617668e+08,\n",
       "        3.93554000e+08, 4.91490333e+08, 5.89426666e+08, 6.87362998e+08,\n",
       "        7.85299331e+08, 8.83235663e+08, 9.81171996e+08]),\n",
       " <BarContainer object of 10 artists>)"
      ]
     },
     "execution_count": 22,
     "metadata": {},
     "output_type": "execute_result"
    },
    {
     "data": {
      "image/png": "[encoded data removed]",
      "text/plain": [
       "<Figure size 432x288 with 1 Axes>"
      ]
     },
     "metadata": {},
     "output_type": "display_data"
    }
   ],
   "source": [
    "plt.hist(data['Incident Number'])"
   ]
  },
  {
   "cell_type": "code",
   "execution_count": 27,
   "id": "84b10b79",
   "metadata": {},
   "outputs": [
    {
     "data": {
      "text/plain": [
       "(array([20354., 10838., 19178., 24519., 10365.,  7225., 21416., 12124.,\n",
       "         8464., 19391.]),\n",
       " array([ 0.,  1.,  2.,  3.,  4.,  5.,  6.,  7.,  8.,  9., 10.]),\n",
       " <BarContainer object of 10 artists>)"
      ]
     },
     "execution_count": 27,
     "metadata": {},
     "output_type": "execute_result"
    },
    {
     "data": {
      "image/png": "[encoded data removed]",
      "text/plain": [
       "<Figure size 432x288 with 1 Axes>"
      ]
     },
     "metadata": {},
     "output_type": "display_data"
    }
   ],
   "source": [
    "plt.hist(data['Police District'])"
   ]
  },
  {
   "cell_type": "code",
   "execution_count": 25,
   "id": "c6216c7f",
   "metadata": {},
   "outputs": [],
   "source": [
    "from sklearn.metrics import plot_confusion_matrix, accuracy_score, confusion_matrix"
   ]
  },
  {
   "cell_type": "code",
   "execution_count": 26,
   "id": "1062c0fb",
   "metadata": {},
   "outputs": [
    {
     "ename": "NameError",
     "evalue": "name 'model' is not defined",
     "output_type": "error",
     "traceback": [
      "\u001b[0;31m---------------------------------------------------------------------------\u001b[0m",
      "\u001b[0;31mNameError\u001b[0m                                 Traceback (most recent call last)",
      "\u001b[0;32m<ipython-input-26-63b52c8619d5>\u001b[0m in \u001b[0;36m<module>\u001b[0;34m\u001b[0m\n\u001b[0;32m----> 1\u001b[0;31m \u001b[0mplot_confusion_matrix\u001b[0m\u001b[0;34m(\u001b[0m\u001b[0mmodel\u001b[0m\u001b[0;34m,\u001b[0m \u001b[0mX_crime\u001b[0m\u001b[0;34m,\u001b[0m \u001b[0my_crime\u001b[0m\u001b[0;34m)\u001b[0m\u001b[0;34m\u001b[0m\u001b[0;34m\u001b[0m\u001b[0m\n\u001b[0m",
      "\u001b[0;31mNameError\u001b[0m: name 'model' is not defined"
     ]
    }
   ],
   "source": [
    "plot_confusion_matrix(model, X_crime, y_crime)"
   ]
  },
  {
   "cell_type": "code",
   "execution_count": null,
   "id": "fc236ebf",
   "metadata": {},
   "outputs": [],
   "source": []
  }
 ],
 "metadata": {
  "kernelspec": {
   "display_name": "Python 3",
   "language": "python",
   "name": "python3"
  },
  "language_info": {
   "codemirror_mode": {
    "name": "ipython",
    "version": 3
   },
   "file_extension": ".py",
   "mimetype": "text/x-python",
   "name": "python",
   "nbconvert_exporter": "python",
   "pygments_lexer": "ipython3",
   "version": "3.8.8"
  }
 },
 "nbformat": 4,
 "nbformat_minor": 5
}
