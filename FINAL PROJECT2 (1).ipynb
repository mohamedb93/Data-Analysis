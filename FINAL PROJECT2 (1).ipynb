{
 "cells": [
  {
   "cell_type": "markdown",
   "id": "c274ac96",
   "metadata": {},
   "source": [
    "1/-my project will be focusing on American background checks. it would detremine what are population has the s\\most crime record in the US.\n",
    "2/-What are the number of background check requested for handguns in the month? What are the number of background check requested for long_guns in the month?\n",
    "3/-FBI_Background_checks_1999_2020 Source: National Instant Criminal Background Checks System (NICS) enriched dataset"
   ]
  },
  {
   "cell_type": "code",
   "execution_count": 1,
   "id": "0fdba837",
   "metadata": {},
   "outputs": [],
   "source": [
    "%matplotlib inline\n",
    "import matplotlib.pyplot as plt\n",
    "plt.style.use('seaborn-whitegrid')\n",
    "import numpy as np\n",
    "import pandas as pd\n",
    "import seaborn as sns"
   ]
  },
  {
   "cell_type": "code",
   "execution_count": 2,
   "id": "4639983d",
   "metadata": {},
   "outputs": [],
   "source": [
    "#data source; Kaggle\n",
    "#Remaining question from part 1\n",
    "#Good idea, but you are missing some of part 1. Include it in part 2 and I will give you the points (just copy and paste this comment into your comments of part 2 submission.)\n",
    "df = pd.read_csv('/Users/mohamedbassimbo/Downloads/FBI_background_check.csv')"
   ]
  },
  {
   "cell_type": "code",
   "execution_count": 4,
   "id": "6c3c02c4",
   "metadata": {},
   "outputs": [
    {
     "name": "stdout",
     "output_type": "stream",
     "text": [
      "<class 'pandas.core.frame.DataFrame'>\n",
      "RangeIndex: 12495 entries, 0 to 12494\n",
      "Data columns (total 10 columns):\n",
      " #   Column        Non-Null Count  Dtype \n",
      "---  ------        --------------  ----- \n",
      " 0   month         12495 non-null  object\n",
      " 1   state         12495 non-null  object\n",
      " 2   handgun       12495 non-null  int64 \n",
      " 3   long_gun      12495 non-null  int64 \n",
      " 4   total         12495 non-null  int64 \n",
      " 5   centralPoint  12495 non-null  object\n",
      " 6   population    12495 non-null  int64 \n",
      " 7   geometry      12495 non-null  object\n",
      " 8   xtext         12495 non-null  int64 \n",
      " 9   ytext         12495 non-null  int64 \n",
      "dtypes: int64(6), object(4)\n",
      "memory usage: 976.3+ KB\n"
     ]
    }
   ],
   "source": [
    "df.info()"
   ]
  },
  {
   "cell_type": "code",
   "execution_count": 4,
   "id": "20a452fa",
   "metadata": {},
   "outputs": [
    {
     "data": {
      "text/plain": [
       "month           object\n",
       "state           object\n",
       "handgun          int64\n",
       "long_gun         int64\n",
       "total            int64\n",
       "centralPoint    object\n",
       "population       int64\n",
       "geometry        object\n",
       "xtext            int64\n",
       "ytext            int64\n",
       "dtype: object"
      ]
     },
     "execution_count": 4,
     "metadata": {},
     "output_type": "execute_result"
    }
   ],
   "source": [
    "df.dtypes"
   ]
  },
  {
   "cell_type": "code",
   "execution_count": 5,
   "id": "5c94e393",
   "metadata": {},
   "outputs": [
    {
     "data": {
      "text/plain": [
       "pandas.core.frame.DataFrame"
      ]
     },
     "execution_count": 5,
     "metadata": {},
     "output_type": "execute_result"
    }
   ],
   "source": [
    "type(df)"
   ]
  },
  {
   "cell_type": "code",
   "execution_count": 6,
   "id": "e426d5e6",
   "metadata": {},
   "outputs": [
    {
     "data": {
      "text/plain": [
       "(12495, 10)"
      ]
     },
     "execution_count": 6,
     "metadata": {},
     "output_type": "execute_result"
    }
   ],
   "source": [
    "df.shape"
   ]
  },
  {
   "cell_type": "code",
   "execution_count": 7,
   "id": "753affe6",
   "metadata": {},
   "outputs": [
    {
     "data": {
      "text/html": [
       "<div>\n",
       "<style scoped>\n",
       "    .dataframe tbody tr th:only-of-type {\n",
       "        vertical-align: middle;\n",
       "    }\n",
       "\n",
       "    .dataframe tbody tr th {\n",
       "        vertical-align: top;\n",
       "    }\n",
       "\n",
       "    .dataframe thead th {\n",
       "        text-align: right;\n",
       "    }\n",
       "</style>\n",
       "<table border=\"1\" class=\"dataframe\">\n",
       "  <thead>\n",
       "    <tr style=\"text-align: right;\">\n",
       "      <th></th>\n",
       "      <th>month</th>\n",
       "      <th>state</th>\n",
       "      <th>handgun</th>\n",
       "      <th>long_gun</th>\n",
       "      <th>total</th>\n",
       "      <th>centralPoint</th>\n",
       "      <th>population</th>\n",
       "      <th>geometry</th>\n",
       "      <th>xtext</th>\n",
       "      <th>ytext</th>\n",
       "    </tr>\n",
       "  </thead>\n",
       "  <tbody>\n",
       "    <tr>\n",
       "      <th>0</th>\n",
       "      <td>2020-03</td>\n",
       "      <td>Alabama</td>\n",
       "      <td>34897</td>\n",
       "      <td>17850</td>\n",
       "      <td>52747</td>\n",
       "      <td>POINT (-86.8295337 33.2588817)</td>\n",
       "      <td>4779736</td>\n",
       "      <td>POLYGON ((-85.05441500000001 31.108696, -85.00...</td>\n",
       "      <td>0</td>\n",
       "      <td>0</td>\n",
       "    </tr>\n",
       "    <tr>\n",
       "      <th>1</th>\n",
       "      <td>2020-03</td>\n",
       "      <td>Arizona</td>\n",
       "      <td>46377</td>\n",
       "      <td>19346</td>\n",
       "      <td>65723</td>\n",
       "      <td>POINT (-111.7632755 34.395342)</td>\n",
       "      <td>6392017</td>\n",
       "      <td>POLYGON ((-109.045225 36.999912, -109.043673 3...</td>\n",
       "      <td>0</td>\n",
       "      <td>0</td>\n",
       "    </tr>\n",
       "    <tr>\n",
       "      <th>2</th>\n",
       "      <td>2020-03</td>\n",
       "      <td>Arkansas</td>\n",
       "      <td>15304</td>\n",
       "      <td>8968</td>\n",
       "      <td>24272</td>\n",
       "      <td>POINT (-92.4479108 35.2048883)</td>\n",
       "      <td>2915918</td>\n",
       "      <td>POLYGON ((-89.662919 36.023073, -89.673513 35....</td>\n",
       "      <td>0</td>\n",
       "      <td>0</td>\n",
       "    </tr>\n",
       "    <tr>\n",
       "      <th>3</th>\n",
       "      <td>2020-03</td>\n",
       "      <td>California</td>\n",
       "      <td>81543</td>\n",
       "      <td>48616</td>\n",
       "      <td>130159</td>\n",
       "      <td>POINT (-118.7559974 36.7014631)</td>\n",
       "      <td>37253956</td>\n",
       "      <td>POLYGON ((-114.354901 34.464667, -114.165972 3...</td>\n",
       "      <td>-100</td>\n",
       "      <td>0</td>\n",
       "    </tr>\n",
       "    <tr>\n",
       "      <th>4</th>\n",
       "      <td>2020-03</td>\n",
       "      <td>Colorado</td>\n",
       "      <td>43322</td>\n",
       "      <td>22756</td>\n",
       "      <td>66078</td>\n",
       "      <td>POINT (-105.6077167 38.7251776)</td>\n",
       "      <td>5029196</td>\n",
       "      <td>POLYGON ((-102.050174 40.000815, -102.040123 3...</td>\n",
       "      <td>0</td>\n",
       "      <td>0</td>\n",
       "    </tr>\n",
       "  </tbody>\n",
       "</table>\n",
       "</div>"
      ],
      "text/plain": [
       "     month       state  handgun  long_gun   total  \\\n",
       "0  2020-03     Alabama    34897     17850   52747   \n",
       "1  2020-03     Arizona    46377     19346   65723   \n",
       "2  2020-03    Arkansas    15304      8968   24272   \n",
       "3  2020-03  California    81543     48616  130159   \n",
       "4  2020-03    Colorado    43322     22756   66078   \n",
       "\n",
       "                      centralPoint  population  \\\n",
       "0   POINT (-86.8295337 33.2588817)     4779736   \n",
       "1   POINT (-111.7632755 34.395342)     6392017   \n",
       "2   POINT (-92.4479108 35.2048883)     2915918   \n",
       "3  POINT (-118.7559974 36.7014631)    37253956   \n",
       "4  POINT (-105.6077167 38.7251776)     5029196   \n",
       "\n",
       "                                            geometry  xtext  ytext  \n",
       "0  POLYGON ((-85.05441500000001 31.108696, -85.00...      0      0  \n",
       "1  POLYGON ((-109.045225 36.999912, -109.043673 3...      0      0  \n",
       "2  POLYGON ((-89.662919 36.023073, -89.673513 35....      0      0  \n",
       "3  POLYGON ((-114.354901 34.464667, -114.165972 3...   -100      0  \n",
       "4  POLYGON ((-102.050174 40.000815, -102.040123 3...      0      0  "
      ]
     },
     "execution_count": 7,
     "metadata": {},
     "output_type": "execute_result"
    }
   ],
   "source": [
    "df.head()"
   ]
  },
  {
   "cell_type": "code",
   "execution_count": 8,
   "id": "5010336e",
   "metadata": {},
   "outputs": [
    {
     "data": {
      "text/html": [
       "<div>\n",
       "<style scoped>\n",
       "    .dataframe tbody tr th:only-of-type {\n",
       "        vertical-align: middle;\n",
       "    }\n",
       "\n",
       "    .dataframe tbody tr th {\n",
       "        vertical-align: top;\n",
       "    }\n",
       "\n",
       "    .dataframe thead th {\n",
       "        text-align: right;\n",
       "    }\n",
       "</style>\n",
       "<table border=\"1\" class=\"dataframe\">\n",
       "  <thead>\n",
       "    <tr style=\"text-align: right;\">\n",
       "      <th></th>\n",
       "      <th>handgun</th>\n",
       "      <th>long_gun</th>\n",
       "      <th>total</th>\n",
       "      <th>population</th>\n",
       "      <th>xtext</th>\n",
       "      <th>ytext</th>\n",
       "    </tr>\n",
       "  </thead>\n",
       "  <tbody>\n",
       "    <tr>\n",
       "      <th>count</th>\n",
       "      <td>12495.000000</td>\n",
       "      <td>12495.000000</td>\n",
       "      <td>12495.000000</td>\n",
       "      <td>1.249500e+04</td>\n",
       "      <td>12495.000000</td>\n",
       "      <td>12495.000000</td>\n",
       "    </tr>\n",
       "    <tr>\n",
       "      <th>mean</th>\n",
       "      <td>7299.201841</td>\n",
       "      <td>8731.815686</td>\n",
       "      <td>16031.017527</td>\n",
       "      <td>6.258674e+06</td>\n",
       "      <td>18.061224</td>\n",
       "      <td>0.816327</td>\n",
       "    </tr>\n",
       "    <tr>\n",
       "      <th>std</th>\n",
       "      <td>9803.821634</td>\n",
       "      <td>9293.986204</td>\n",
       "      <td>16929.142400</td>\n",
       "      <td>6.815170e+06</td>\n",
       "      <td>60.009343</td>\n",
       "      <td>49.068213</td>\n",
       "    </tr>\n",
       "    <tr>\n",
       "      <th>min</th>\n",
       "      <td>0.000000</td>\n",
       "      <td>0.000000</td>\n",
       "      <td>0.000000</td>\n",
       "      <td>5.636260e+05</td>\n",
       "      <td>-120.000000</td>\n",
       "      <td>-120.000000</td>\n",
       "    </tr>\n",
       "    <tr>\n",
       "      <th>25%</th>\n",
       "      <td>1493.500000</td>\n",
       "      <td>2919.000000</td>\n",
       "      <td>5008.500000</td>\n",
       "      <td>1.852994e+06</td>\n",
       "      <td>0.000000</td>\n",
       "      <td>0.000000</td>\n",
       "    </tr>\n",
       "    <tr>\n",
       "      <th>50%</th>\n",
       "      <td>4077.000000</td>\n",
       "      <td>6081.000000</td>\n",
       "      <td>10782.000000</td>\n",
       "      <td>4.533372e+06</td>\n",
       "      <td>0.000000</td>\n",
       "      <td>0.000000</td>\n",
       "    </tr>\n",
       "    <tr>\n",
       "      <th>75%</th>\n",
       "      <td>9029.500000</td>\n",
       "      <td>11284.000000</td>\n",
       "      <td>20655.500000</td>\n",
       "      <td>6.724540e+06</td>\n",
       "      <td>60.000000</td>\n",
       "      <td>10.000000</td>\n",
       "    </tr>\n",
       "    <tr>\n",
       "      <th>max</th>\n",
       "      <td>147714.000000</td>\n",
       "      <td>108058.000000</td>\n",
       "      <td>209541.000000</td>\n",
       "      <td>3.725396e+07</td>\n",
       "      <td>160.000000</td>\n",
       "      <td>120.000000</td>\n",
       "    </tr>\n",
       "  </tbody>\n",
       "</table>\n",
       "</div>"
      ],
      "text/plain": [
       "             handgun       long_gun          total    population  \\\n",
       "count   12495.000000   12495.000000   12495.000000  1.249500e+04   \n",
       "mean     7299.201841    8731.815686   16031.017527  6.258674e+06   \n",
       "std      9803.821634    9293.986204   16929.142400  6.815170e+06   \n",
       "min         0.000000       0.000000       0.000000  5.636260e+05   \n",
       "25%      1493.500000    2919.000000    5008.500000  1.852994e+06   \n",
       "50%      4077.000000    6081.000000   10782.000000  4.533372e+06   \n",
       "75%      9029.500000   11284.000000   20655.500000  6.724540e+06   \n",
       "max    147714.000000  108058.000000  209541.000000  3.725396e+07   \n",
       "\n",
       "              xtext         ytext  \n",
       "count  12495.000000  12495.000000  \n",
       "mean      18.061224      0.816327  \n",
       "std       60.009343     49.068213  \n",
       "min     -120.000000   -120.000000  \n",
       "25%        0.000000      0.000000  \n",
       "50%        0.000000      0.000000  \n",
       "75%       60.000000     10.000000  \n",
       "max      160.000000    120.000000  "
      ]
     },
     "execution_count": 8,
     "metadata": {},
     "output_type": "execute_result"
    }
   ],
   "source": [
    "df.describe()"
   ]
  },
  {
   "cell_type": "code",
   "execution_count": 9,
   "id": "acababba",
   "metadata": {},
   "outputs": [
    {
     "data": {
      "text/plain": [
       "month           0\n",
       "state           0\n",
       "handgun         0\n",
       "long_gun        0\n",
       "total           0\n",
       "centralPoint    0\n",
       "population      0\n",
       "geometry        0\n",
       "xtext           0\n",
       "ytext           0\n",
       "dtype: int64"
      ]
     },
     "execution_count": 9,
     "metadata": {},
     "output_type": "execute_result"
    }
   ],
   "source": [
    "df.isna().sum()"
   ]
  },
  {
   "cell_type": "code",
   "execution_count": 10,
   "id": "7dbcc252",
   "metadata": {},
   "outputs": [
    {
     "data": {
      "text/plain": [
       "6258673.591836735"
      ]
     },
     "execution_count": 10,
     "metadata": {},
     "output_type": "execute_result"
    }
   ],
   "source": [
    "df['population'].mean()"
   ]
  },
  {
   "cell_type": "code",
   "execution_count": 11,
   "id": "ff3be5f7",
   "metadata": {},
   "outputs": [
    {
     "data": {
      "text/plain": [
       "handgun       9.611492e+07\n",
       "long_gun      8.637818e+07\n",
       "total         2.865959e+08\n",
       "population    4.644655e+13\n",
       "xtext         3.601121e+03\n",
       "ytext         2.407690e+03\n",
       "dtype: float64"
      ]
     },
     "execution_count": 11,
     "metadata": {},
     "output_type": "execute_result"
    }
   ],
   "source": [
    "df.var()"
   ]
  },
  {
   "cell_type": "code",
   "execution_count": 12,
   "id": "129ac493",
   "metadata": {},
   "outputs": [
    {
     "data": {
      "text/plain": [
       "0        3.774523e+12\n",
       "1        6.754426e+12\n",
       "2        1.407762e+12\n",
       "3        2.306662e+14\n",
       "4        4.171930e+12\n",
       "             ...     \n",
       "12490    1.065461e+13\n",
       "12491    7.529751e+12\n",
       "12492    5.702704e+11\n",
       "12493    5.384373e+12\n",
       "12494    5.279099e+10\n",
       "Length: 12495, dtype: float64"
      ]
     },
     "execution_count": 12,
     "metadata": {},
     "output_type": "execute_result"
    }
   ],
   "source": [
    "df.var(axis=1)"
   ]
  },
  {
   "cell_type": "code",
   "execution_count": 13,
   "id": "280790c9",
   "metadata": {},
   "outputs": [
    {
     "name": "stdout",
     "output_type": "stream",
     "text": [
      "             handgun       long_gun          total    population  \\\n",
      "count   12495.000000   12495.000000   12495.000000  1.249500e+04   \n",
      "mean     7299.201841    8731.815686   16031.017527  6.258674e+06   \n",
      "std      9803.821634    9293.986204   16929.142400  6.815170e+06   \n",
      "min         0.000000       0.000000       0.000000  5.636260e+05   \n",
      "25%      1493.500000    2919.000000    5008.500000  1.852994e+06   \n",
      "50%      4077.000000    6081.000000   10782.000000  4.533372e+06   \n",
      "75%      9029.500000   11284.000000   20655.500000  6.724540e+06   \n",
      "max    147714.000000  108058.000000  209541.000000  3.725396e+07   \n",
      "\n",
      "              xtext         ytext  \n",
      "count  12495.000000  12495.000000  \n",
      "mean      18.061224      0.816327  \n",
      "std       60.009343     49.068213  \n",
      "min     -120.000000   -120.000000  \n",
      "25%        0.000000      0.000000  \n",
      "50%        0.000000      0.000000  \n",
      "75%       60.000000     10.000000  \n",
      "max      160.000000    120.000000  \n"
     ]
    }
   ],
   "source": [
    "print(df.describe())"
   ]
  },
  {
   "cell_type": "code",
   "execution_count": 14,
   "id": "80505649",
   "metadata": {},
   "outputs": [
    {
     "data": {
      "text/plain": [
       "{'whiskers': [<matplotlib.lines.Line2D at 0x7fdb17cd8a60>,\n",
       "  <matplotlib.lines.Line2D at 0x7fdb17cd8dc0>],\n",
       " 'caps': [<matplotlib.lines.Line2D at 0x7fdb17cf0160>,\n",
       "  <matplotlib.lines.Line2D at 0x7fdb17cf04c0>],\n",
       " 'boxes': [<matplotlib.lines.Line2D at 0x7fdb17cd8700>],\n",
       " 'medians': [<matplotlib.lines.Line2D at 0x7fdb17cf0820>],\n",
       " 'fliers': [<matplotlib.lines.Line2D at 0x7fdb17cf0b80>],\n",
       " 'means': []}"
      ]
     },
     "execution_count": 14,
     "metadata": {},
     "output_type": "execute_result"
    },
    {
     "data": {
      "image/png": "[encoded data removed]",
      "text/plain": [
       "<Figure size 432x288 with 1 Axes>"
      ]
     },
     "metadata": {},
     "output_type": "display_data"
    }
   ],
   "source": [
    "plt.boxplot('total', data=df)"
   ]
  },
  {
   "cell_type": "code",
   "execution_count": 15,
   "id": "0aae07e3",
   "metadata": {},
   "outputs": [
    {
     "data": {
      "text/plain": [
       "{'whiskers': [<matplotlib.lines.Line2D at 0x7fdb179891f0>,\n",
       "  <matplotlib.lines.Line2D at 0x7fdb17989550>],\n",
       " 'caps': [<matplotlib.lines.Line2D at 0x7fdb179898b0>,\n",
       "  <matplotlib.lines.Line2D at 0x7fdb17989c10>],\n",
       " 'boxes': [<matplotlib.lines.Line2D at 0x7fdb17c31e50>],\n",
       " 'medians': [<matplotlib.lines.Line2D at 0x7fdb17989f70>],\n",
       " 'fliers': [<matplotlib.lines.Line2D at 0x7fdb17995310>],\n",
       " 'means': []}"
      ]
     },
     "execution_count": 15,
     "metadata": {},
     "output_type": "execute_result"
    },
    {
     "data": {
      "image/png": "[encoded data removed]",
      "text/plain": [
       "<Figure size 432x288 with 1 Axes>"
      ]
     },
     "metadata": {},
     "output_type": "display_data"
    }
   ],
   "source": [
    "plt.boxplot('xtext', data=df)"
   ]
  },
  {
   "cell_type": "code",
   "execution_count": 16,
   "id": "7046554a",
   "metadata": {},
   "outputs": [
    {
     "data": {
      "text/plain": [
       "{'whiskers': [<matplotlib.lines.Line2D at 0x7fdb17962be0>,\n",
       "  <matplotlib.lines.Line2D at 0x7fdb17962f40>],\n",
       " 'caps': [<matplotlib.lines.Line2D at 0x7fdb179702e0>,\n",
       "  <matplotlib.lines.Line2D at 0x7fdb17970640>],\n",
       " 'boxes': [<matplotlib.lines.Line2D at 0x7fdb17962850>],\n",
       " 'medians': [<matplotlib.lines.Line2D at 0x7fdb179709a0>],\n",
       " 'fliers': [<matplotlib.lines.Line2D at 0x7fdb17970d00>],\n",
       " 'means': []}"
      ]
     },
     "execution_count": 16,
     "metadata": {},
     "output_type": "execute_result"
    },
    {
     "data": {
      "image/png": "[encoded data removed]",
      "text/plain": [
       "<Figure size 432x288 with 1 Axes>"
      ]
     },
     "metadata": {},
     "output_type": "display_data"
    }
   ],
   "source": [
    "plt.boxplot('ytext', data=df)"
   ]
  },
  {
   "cell_type": "code",
   "execution_count": 17,
   "id": "b383f5e9",
   "metadata": {},
   "outputs": [
    {
     "data": {
      "text/plain": [
       "(array([1020.,    0.,    0., 1020., 6375.,  510., 1275., 1275.,  510.,\n",
       "         510.]),\n",
       " array([-120.,  -92.,  -64.,  -36.,   -8.,   20.,   48.,   76.,  104.,\n",
       "         132.,  160.]),\n",
       " <BarContainer object of 10 artists>)"
      ]
     },
     "execution_count": 17,
     "metadata": {},
     "output_type": "execute_result"
    },
    {
     "data": {
      "image/png": "[encoded data removed]",
      "text/plain": [
       "<Figure size 432x288 with 1 Axes>"
      ]
     },
     "metadata": {},
     "output_type": "display_data"
    }
   ],
   "source": [
    "# ytext vertical offset for the label (the U.S. states located around NYC are very close, so we want an offset to represent the values we want to show\n",
    "plt.hist(df['xtext'])"
   ]
  },
  {
   "cell_type": "code",
   "execution_count": 18,
   "id": "519de870",
   "metadata": {},
   "outputs": [
    {
     "data": {
      "text/plain": [
       "(array([ 510.,  510., 1020.,  510.,  510., 6885.,  255., 1020.,  765.,\n",
       "         510.]),\n",
       " array([-120.,  -96.,  -72.,  -48.,  -24.,    0.,   24.,   48.,   72.,\n",
       "          96.,  120.]),\n",
       " <BarContainer object of 10 artists>)"
      ]
     },
     "execution_count": 18,
     "metadata": {},
     "output_type": "execute_result"
    },
    {
     "data": {
      "image/png": "[encoded data removed]",
      "text/plain": [
       "<Figure size 432x288 with 1 Axes>"
      ]
     },
     "metadata": {},
     "output_type": "display_data"
    }
   ],
   "source": [
    "#ytext vertical offset for the label (the U.S. states located around NYC are very close, so we want an offset to represent the values we want to show\n",
    "plt.hist(df['ytext'])"
   ]
  },
  {
   "cell_type": "code",
   "execution_count": 19,
   "id": "37a1a6a8",
   "metadata": {},
   "outputs": [
    {
     "data": {
      "text/plain": [
       "(array([5865., 3570., 1530.,  510.,  255.,  255.,  255.,    0.,    0.,\n",
       "         255.]),\n",
       " array([  563626.,  4232659.,  7901692., 11570725., 15239758., 18908791.,\n",
       "        22577824., 26246857., 29915890., 33584923., 37253956.]),\n",
       " <BarContainer object of 10 artists>)"
      ]
     },
     "execution_count": 19,
     "metadata": {},
     "output_type": "execute_result"
    },
    {
     "data": {
      "image/png": "[encoded data removed]",
      "text/plain": [
       "<Figure size 432x288 with 1 Axes>"
      ]
     },
     "metadata": {},
     "output_type": "display_data"
    }
   ],
   "source": [
    "plt.hist(df['population'])"
   ]
  },
  {
   "cell_type": "code",
   "execution_count": 21,
   "id": "efbeeda0",
   "metadata": {},
   "outputs": [
    {
     "data": {
      "text/plain": [
       "<matplotlib.collections.PathCollection at 0x7fdb1835fc10>"
      ]
     },
     "execution_count": 21,
     "metadata": {},
     "output_type": "execute_result"
    },
    {
     "data": {
      "image/png": "[encoded data removed]",
      "text/plain": [
       "<Figure size 432x288 with 1 Axes>"
      ]
     },
     "metadata": {},
     "output_type": "display_data"
    }
   ],
   "source": [
    "plt.scatter('xtext', 'ytext', data=df, alpha=0.5)"
   ]
  },
  {
   "cell_type": "code",
   "execution_count": 26,
   "id": "ea2f6104",
   "metadata": {},
   "outputs": [
    {
     "data": {
      "image/png": "[encoded data removed]",
      "text/plain": [
       "<Figure size 432x288 with 1 Axes>"
      ]
     },
     "metadata": {},
     "output_type": "display_data"
    }
   ],
   "source": [
    "plt.hist(df['xtext'], bins=50)\n",
    "plt.show()"
   ]
  },
  {
   "cell_type": "code",
   "execution_count": 28,
   "id": "4b3e96df",
   "metadata": {},
   "outputs": [
    {
     "data": {
      "text/plain": [
       "<AxesSubplot:>"
      ]
     },
     "execution_count": 28,
     "metadata": {},
     "output_type": "execute_result"
    },
    {
     "data": {
      "image/png": "[encoded data removed]",
      "text/plain": [
       "<Figure size 432x288 with 2 Axes>"
      ]
     },
     "metadata": {},
     "output_type": "display_data"
    }
   ],
   "source": [
    "sns.heatmap(df.corr())"
   ]
  },
  {
   "cell_type": "code",
   "execution_count": 44,
   "id": "aa179277",
   "metadata": {},
   "outputs": [],
   "source": [
    "from sklearn.linear_model import LinearRegression\n",
    "from sklearn.model_selection import train_test_split\n",
    "from sklearn.linear_model import LogisticRegression\n"
   ]
  },
  {
   "cell_type": "code",
   "execution_count": 45,
   "id": "d6b0b289",
   "metadata": {},
   "outputs": [
    {
     "data": {
      "text/plain": [
       "sklearn.utils.Bunch"
      ]
     },
     "execution_count": 45,
     "metadata": {},
     "output_type": "execute_result"
    }
   ],
   "source": [
    "type(df)"
   ]
  },
  {
   "cell_type": "code",
   "execution_count": 46,
   "id": "366d75ee",
   "metadata": {},
   "outputs": [
    {
     "data": {
      "text/plain": [
       "dict_keys(['data', 'target', 'feature_names', 'DESCR', 'filename'])"
      ]
     },
     "execution_count": 46,
     "metadata": {},
     "output_type": "execute_result"
    }
   ],
   "source": [
    "df.keys()"
   ]
  },
  {
   "cell_type": "code",
   "execution_count": null,
   "id": "91d04cfd",
   "metadata": {},
   "outputs": [],
   "source": []
  },
  {
   "cell_type": "code",
   "execution_count": null,
   "id": "2afed064",
   "metadata": {},
   "outputs": [],
   "source": []
  },
  {
   "cell_type": "code",
   "execution_count": null,
   "id": "47cb2cfa",
   "metadata": {},
   "outputs": [],
   "source": []
  },
  {
   "cell_type": "code",
   "execution_count": null,
   "id": "75a978c2",
   "metadata": {},
   "outputs": [],
   "source": []
  },
  {
   "cell_type": "code",
   "execution_count": 11,
   "id": "c1699d0c",
   "metadata": {},
   "outputs": [],
   "source": [
    "X_train, X_test, y_train, y_test = train_test_split(df.drop('xtext',axis=1), \n",
    "                                                    df['ytext'])"
   ]
  },
  {
   "cell_type": "code",
   "execution_count": null,
   "id": "46cfd2b3",
   "metadata": {},
   "outputs": [],
   "source": []
  },
  {
   "cell_type": "code",
   "execution_count": 27,
   "id": "b192c6db",
   "metadata": {},
   "outputs": [],
   "source": [
    "lgmodel = LogisticRegression(max_iter=1000)\n"
   ]
  },
  {
   "cell_type": "code",
   "execution_count": 24,
   "id": "773f54eb",
   "metadata": {},
   "outputs": [],
   "source": [
    "x=df.drop('xtext',axis=1)\n",
    "y = df['ytext']"
   ]
  },
  {
   "cell_type": "code",
   "execution_count": 25,
   "id": "71ed5150",
   "metadata": {},
   "outputs": [
    {
     "data": {
      "text/plain": [
       "0          0\n",
       "1          0\n",
       "2          0\n",
       "3          0\n",
       "4          0\n",
       "        ... \n",
       "12490      0\n",
       "12491      0\n",
       "12492    -80\n",
       "12493    120\n",
       "12494      0\n",
       "Name: ytext, Length: 12495, dtype: int64"
      ]
     },
     "execution_count": 25,
     "metadata": {},
     "output_type": "execute_result"
    }
   ],
   "source": [
    "y"
   ]
  },
  {
   "cell_type": "code",
   "execution_count": 14,
   "id": "f441c773",
   "metadata": {},
   "outputs": [],
   "source": [
    "lm = LinearRegression()"
   ]
  },
  {
   "cell_type": "code",
   "execution_count": null,
   "id": "59229b14",
   "metadata": {},
   "outputs": [],
   "source": []
  }
 ],
 "metadata": {
  "kernelspec": {
   "display_name": "Python 3",
   "language": "python",
   "name": "python3"
  },
  "language_info": {
   "codemirror_mode": {
    "name": "ipython",
    "version": 3
   },
   "file_extension": ".py",
   "mimetype": "text/x-python",
   "name": "python",
   "nbconvert_exporter": "python",
   "pygments_lexer": "ipython3",
   "version": "3.8.8"
  }
 },
 "nbformat": 4,
 "nbformat_minor": 5
}
